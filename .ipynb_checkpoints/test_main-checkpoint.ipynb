{
 "cells": [
  {
   "cell_type": "markdown",
   "metadata": {},
   "source": [
    "Application flow:\n",
    "1. Find a track on YouTube (Get URL)\n",
    "2. Input URL in app\n",
    "3. Is it a solo or album track ?\n",
    "4. If solo add track to validation loop, else propose album title, if ok validate and add all tracks to validation loop, else choose album title and add all tracks to validation loop\n",
    "5. For each track in validation loop:\n",
    "    - Parse title and description and propose metadata, if ok validate, else input manually\n",
    "6. Once all is done, process all tracks : download, convert, add metadata."
   ]
  },
  {
   "cell_type": "code",
   "execution_count": 1,
   "metadata": {},
   "outputs": [],
   "source": [
    "from pytube import YouTube\n",
    "from moviepy.editor import *\n",
    "import mutagen\n",
    "from mutagen.mp3 import MP3\n",
    "from mutagen.easyid3 import EasyID3\n",
    "from pydub import AudioSegment\n",
    "import os\n",
    "import sys\n",
    "from utils import *\n",
    "#AudioSegment.converter = r\"C:\\\\Utility\\\\SoundVideoEditors\\\\ffmpeg-20190826-0821bc4-win64-static\\\\bin\\\\ffmpeg.exe\"\n",
    "#AudioSegment.ffprobe   = r\"C:\\\\Utility\\\\SoundVideoEditors\\\\ffmpeg-20190826-0821bc4-win64-static\\\\bin\\\\ffprobe.exe\""
   ]
  },
  {
   "cell_type": "code",
   "execution_count": 2,
   "metadata": {},
   "outputs": [],
   "source": [
    "def read_tracklist(text_file):\n",
    "    with open(\".\\\\inputs\\\\\" + text_file, \"r\") as file:\n",
    "        contents = file.read().split(\"\\n\")\n",
    "    metadata = []\n",
    "    for line in contents:\n",
    "        s_line = line.split(\";\")\n",
    "        metadata.append(s_line[0], ts_decompose(s_line[1]), s_line[2])\n",
    "    return metadata\n",
    "\n",
    "def amend_metadata(metadata):\n",
    "    for k, v in metadata.items():\n",
    "        print(\"\")\n",
    "        print(k, \":\", v)\n",
    "        while True:\n",
    "            new = input(\"Enter new value or if no change required, press [Enter] ==> \")\n",
    "            if new == \"\":\n",
    "                break\n",
    "            print(\"New value for {} is:\".format(k))\n",
    "            print(\"==>\", new)\n",
    "            check = input(\"Are you sure? [y]/[Enter]    [n] ==> \")\n",
    "            if check == \"\" or check == \"y\":\n",
    "                metadata[k] = new\n",
    "                print(\"OK. {} value saved.\".format(k))\n",
    "                break\n",
    "            else:\n",
    "                continue\n",
    "    print(\"Final metadata:\")\n",
    "    print_metadata(metadata)\n",
    "    return metadata"
   ]
  },
  {
   "cell_type": "code",
   "execution_count": null,
   "metadata": {},
   "outputs": [
    {
     "name": "stdout",
     "output_type": "stream",
     "text": [
      "++++++++++++++++++++++++++++ Vbtesh's video converter - VVC ++++++++++++++++++++++++++++ \n",
      "\n",
      "Enter below the track's URL or the name of the file for multiple extracts. \n",
      "    If you are using a file, it should be a *.txt with one URL per line.\n",
      "    File name format: in_*.txt\n",
      "    If the file is in the 'inputs' directory, enter its full name, else enter absolute path.\n",
      "URL / File path: https://www.youtube.com/watch?v=OGTgkRCp89M\n",
      "Got it, proceeding with one video...\n",
      "\n",
      "Constructing metadata for input tracks...\n",
      "\n",
      "Handling Sufjan Stevens - Carrie & Lowell (2015) indie | folk | singer-songwriter.\n",
      "URL: https://www.youtube.com/watch?v=OGTgkRCp89M\n",
      "Album or single track? album: [a]  single track: [t] ==> a\n",
      "Attempting to parse description for tracklist...\n",
      "\n",
      "Track list found:\n",
      "1 - 1000 - death with dignity\n",
      "2 - 239000 - should have known better\n",
      "3 - 545000 - all of me wants all of you\n",
      "4 - 765000 - drawn to the blood\n",
      "5 - 962000 - eugene\n",
      "6 - 1106000 - fourth of july\n",
      "7 - 1385000 - the only thing\n",
      "8 - 1666000 - carrie & lowell\n",
      "9 - 1859000 - john my beloved\n",
      "10 - 2165000 - no shade in the shadow of the cross\n",
      "11 - 2323000 - blue bucket of gold\n",
      "\n",
      "Validate track list? [y]/[Enter]    [n] ==> \n",
      "Track list validated.\n",
      "\n",
      "Parsing title data...\n",
      "Parsed metadata is as follows:\n",
      "artist : Sufjan Stevens\n",
      "title : None\n",
      "album : Carrie & Lowell\n",
      "date : 2015\n",
      "tracknumber : None\n",
      "tags : []\n",
      "Any amendments or additions? [y]    [n]/[Enter] ==> \n",
      "\n",
      "Handling one album with 11 tracks:\n",
      "Artist: Sufjan Stevens\n",
      "Album: Carrie & Lowell\n",
      "Downloading...\n",
      "Download successful. Video file located at .\\videos\\Sufjan Stevens - Carrie & Lowell (2015) indie  folk  singer-songwriter.mp4\n",
      "\n",
      "Converting to MP3...\n",
      "MoviePy - Writing audio in .\\audios\\Carrie & Lowell.mp3\n"
     ]
    },
    {
     "name": "stderr",
     "output_type": "stream",
     "text": [
      "chunk:  95%|█████████████████████████████████████████████████████████████████████▎   | 54924/57881 [02:17<00:08, 360.08it/s, now=None]"
     ]
    }
   ],
   "source": [
    "print(\"++++++++++++++++++++++++++++ Vbtesh's video converter - VVC ++++++++++++++++++++++++++++ \\n\")\n",
    "\n",
    "validation = get_url()\n",
    "\n",
    "print(\"Constructing metadata for input tracks...\\n\")\n",
    "download = []\n",
    "for tune in validation:\n",
    "    # Infos & album validation loop\n",
    "    print(\"Handling {x}.\".format(x=tune[0].title))\n",
    "    print(\"URL: \" + tune[1])\n",
    "    while True:\n",
    "        nature = input(\"Album or single track? album: [a]  single track: [t] ==> \")\n",
    "        if nature == \"a\":\n",
    "            album = True\n",
    "            break\n",
    "        elif nature == \"t\":\n",
    "            album = False\n",
    "            break\n",
    "        else:\n",
    "            continue\n",
    "    \n",
    "    if album:\n",
    "        # if album, try parsing description for tracklist, if not found, look for file with data, if not found, ask to produce one\n",
    "        print(\"Attempting to parse description for tracklist...\\n\")\n",
    "        track_list = parse_tracklist(tune[0].description)\n",
    "        if track_list:\n",
    "            print(\"Track list found:\")\n",
    "            for track in track_list:\n",
    "                print(track[0], \"-\", track[1], \"-\", track[2])\n",
    "            check = input(\"\\nValidate track list? [y]/[Enter]    [n] ==> \")\n",
    "            if check == \"n\" or check == \"no\":\n",
    "                track_list = None\n",
    "            else:\n",
    "                print(\"Track list validated.\\n\")\n",
    "        if not track_list:\n",
    "            print(\"Could not parse track list or invalid parsing result. Provide file name for track file.\")\n",
    "            print(\"Appropriate format is ts_*.txt, with the following format: 'track number' ; 'timestamp (HH:MM:SS)' ; 'title'\")\n",
    "            print(\"If the file is in the 'inputs' directory, enter its full name, else enter absolute path.\")\n",
    "            while True:\n",
    "                file = input(\"File name: \")\n",
    "                if file[-4:] == \".txt\" and file[:3] == \"ts_\":\n",
    "                    track_list = read_tracklist(file)\n",
    "                    if track_list:\n",
    "                        print(\"Track list found:\")\n",
    "                        for track in track_list:\n",
    "                            print(track[0], \"-\", track[1], \"-\", track[2])\n",
    "                        check = input(\"\\nValidate track list? [y]/[Enter]    [n] ==> \")\n",
    "                        if check != \"\" or check != \"y\":\n",
    "                            print(\"Track list validated.\\n\")\n",
    "                            break\n",
    "                        else:\n",
    "                            print(\"OK. Amend file and re submit.\")\n",
    "                    else:\n",
    "                        print(\"No proper tracklist found. Check file and line format and re submit.\")\n",
    "                else:\n",
    "                    print(\"Invalid file, check file name and re submit.\")\n",
    "        \n",
    "        # Title\n",
    "        print(\"Parsing title data...\")\n",
    "        metadata = parse_title(tune[0].title, True)\n",
    "        print(\"Parsed metadata is as follows:\")\n",
    "        print_metadata(metadata)\n",
    "        # Amendments\n",
    "        change = input(\"Any amendments or additions? [y]    [n]/[Enter] ==> \")\n",
    "        if change == \"y\":\n",
    "            metadata = amend_metadata(metadata)\n",
    "        # send to download list\n",
    "        download.append([tune[0], tune[1], metadata, track_list])\n",
    "    else:\n",
    "        # if track:\n",
    "        # parse title, make amendments\n",
    "        metadata = parse_title(tune[0].title, False)\n",
    "        print(\"Parsed metadata is as follows:\")\n",
    "        print_metadata(metadata)\n",
    "        # Amendments\n",
    "        change = input(\"Any amendments or additions? [y]    [n]/[Enter] ==> \")\n",
    "        if change == \"y\":\n",
    "            metadata = amend_metadata(metadata)\n",
    "        # send to download list\n",
    "        download.append([tune[0], tune[1], metadata])\n",
    "\n",
    "final_info = []\n",
    "for tube in download:\n",
    "    if len(tube) == 3:\n",
    "        title = tube[2][\"title\"]\n",
    "        video_title = tube[0].title\n",
    "        print(\"\\nHandling one track:\")\n",
    "        print(\"Artist:\", tube[2][\"artist\"])\n",
    "        print(\"Title:\", title)\n",
    "        \n",
    "        # Check if MP4 exists, if not download it\n",
    "        tube_path = f\".\\\\videos\\\\{video_title}.mp4\"\n",
    "        if not os.path.exists(tube_path):\n",
    "            print(\"Downloading...\")\n",
    "            tube_path = tube[0].streams.first().download(output_path = \".\\\\videos\\\\\")\n",
    "            print(\"Download successful. Video file located at {}\".format(tube_path))\n",
    "        else:\n",
    "            print(\"MP4 file already downloaded.\")\n",
    "        \n",
    "        # Check if MP3 file exists, if not convert MP4\n",
    "        audio_path = f\".\\\\audios\\\\{title}.mp3\"\n",
    "        if not os.path.exists(audio_path):\n",
    "            print(\"\\nConverting to MP3...\")\n",
    "            with VideoFileClip(tube_path) as video:\n",
    "                video.audio.write_audiofile(audio_path)\n",
    "        else:\n",
    "            print(\"MP3 file already exists.\")\n",
    "            \n",
    "        print(\"Appending metadata to MP3 file...\")\n",
    "        audio_path = \".\\\\audios\\\\{filename}.mp3\".format(filename = title)\n",
    "        file = EasyID3(audio_path)\n",
    "        metadata = tube[2]\n",
    "        for k in metadata.keys():\n",
    "            if k == \"tags\" or not metadata[k]:\n",
    "                continue\n",
    "            else:\n",
    "                file[k] = metadata[k]\n",
    "        file.save()\n",
    "        print(\"Done.\")\n",
    "    else:\n",
    "        album = tube[2][\"album\"]\n",
    "        video_title = tube[0].title\n",
    "        print(f\"\\nHandling one album with {len(tube[3])} tracks:\")\n",
    "        print(\"Artist:\", tube[2][\"artist\"])\n",
    "        print(\"Album:\", album)\n",
    "        \n",
    "        # Check if MP4 exists, if not download it\n",
    "        tube_path = f\".\\\\videos\\\\{video_title}.mp4\"\n",
    "        if not os.path.exists(tube_path):\n",
    "            print(\"Downloading...\")\n",
    "            tube_path = tube[0].streams.first().download(output_path = \".\\\\videos\\\\\")\n",
    "            print(\"Download successful. Video file located at {}\".format(tube_path))\n",
    "        else:\n",
    "            print(\"MP4 file already downloaded.\")\n",
    "        \n",
    "        # Check if MP3 file exists, if not convert MP4\n",
    "        audio_path = f\".\\\\audios\\\\{album}.mp3\"\n",
    "        if not os.path.exists(audio_path):\n",
    "            print(\"\\nConverting to MP3...\")\n",
    "            with VideoFileClip(tube_path) as video:\n",
    "                video.audio.write_audiofile(audio_path)\n",
    "        else:\n",
    "            print(\"MP3 file already exists.\")\n",
    "            \n",
    "        print(\"Initiating album split...\")\n",
    "        song = AudioSegment.from_file(audio_path, \"mp3\")\n",
    "        # Loop through tracks and extract appropriate section of full album audio file then append it to tracks_audio\n",
    "        tracks = tube[3]\n",
    "        tracks_audio = []\n",
    "        for idx, track  in zip(range(len(tracks)), tracks):\n",
    "            begin_stamp = track[1]\n",
    "            # If song is last, time stamp is begin stamp to end of full album audio file, else end stamp is begin stamp of next song\n",
    "            if idx == len(tracks) - 1:\n",
    "                track = song[begin_stamp:]\n",
    "            else:\n",
    "                end_stamp = tracks[idx+1][1]\n",
    "                track = song[begin_stamp:end_stamp]\n",
    "            tracks_audio.append(track)\n",
    "            \n",
    "        # Clean file extract and metadata increment\n",
    "        metadata = tube[2]\n",
    "        album = metadata['album']\n",
    "        artist = metadata['artist']\n",
    "        print(f\"Creating album directory for {album}.\")\n",
    "        album_path = f\".\\\\audios\\\\{artist} - {album}\"\n",
    "        \n",
    "        try:\n",
    "            os.mkdir(album_path)\n",
    "            print(\"Done. Saving songs...\")\n",
    "        except FileExistsError:\n",
    "            print(\"Directory already exists, saving inside existing directory...\")\n",
    "            \n",
    "        for idx, audio in zip(range(len(tracks_audio)), tracks_audio):\n",
    "            track_name = tracks[idx][2]\n",
    "            file_name = f\"{album} - Track {idx+1}\"\n",
    "            audio_path = f\"{album_path}\\\\{file_name}.mp3\"\n",
    "            audio.export(audio_path, format=\"mp3\")\n",
    "            audio_mp3 = EasyID3(audio_path)\n",
    "            for k in metadata.keys():\n",
    "                if k == \"tags\" or not metadata[k]:\n",
    "                    continue\n",
    "                else:\n",
    "                    audio_mp3[k] = metadata[k]\n",
    "            audio_mp3[\"title\"] = track_name\n",
    "            audio_mp3[\"tracknumber\"] = str(idx + 1)\n",
    "            audio_mp3.save()\n",
    "            print(f\"Extracted track #{idx + 1} - {track_name}\")\n",
    "            \n",
    "        print(\"All done. Deleting intial album MP3 file...\")\n",
    "        #os.remove(f\".\\\\audios\\\\{album}.mp3\")\n",
    "        print(f\"All done. Album can be found at {album_path}.\")\n",
    "\n",
    "print(\"All tube(s) have been extracted. Exiting...\")"
   ]
  },
  {
   "cell_type": "code",
   "execution_count": 12,
   "metadata": {},
   "outputs": [
    {
     "name": "stdout",
     "output_type": "stream",
     "text": [
      "[1, 0, 'Concerning the UFO Sighting Near Highland, Illinois']\n",
      "[2, 129000, \"The Black Hawk War, or, How to Demolish an Entire Civilization and Still Feel Good About Yourself in the Morning, or, We Apologize for the Inconvenience but You're Going to Have to Leave Now, or, 'I Have Fought the Big Knives and Will Continue to Fight Them Until They Are Off Our Lands!'\"]\n",
      "[3, 263000, \"Come On! Feel the Illinoise! (Part I  The World's Columbian Exposition   Part II  Carl Sandburg Visits Me in a Dream)\"]\n",
      "[4, 668000, 'John Wayne Gacy, Jr']\n",
      "[5, 868000, 'Jacksonville']\n",
      "[6, 1192000, 'A Short Reprise for Mary Todd, Who Went Insane, but for Very Good Reasons']\n",
      "[7, 1240000, 'Decatur, or, Round of Applause for Your Stepmother!']\n",
      "[8, 1424000, \"One Last 'Whoo Hoo!' for the Pullman\"]\n",
      "[9, 1430000, 'Chicago']\n",
      "[10, 1795000, 'Casimir Pulaski Day']\n",
      "[11, 2148000, 'To the Workers of the Rock River Valley Region, I Have an Idea Concerning Your Predicament']\n",
      "[12, 2249000, 'The Man of Metropolis Steals Our Hearts']\n",
      "[13, 2625000, 'Prairie Fire That Wanders About']\n",
      "[14, 2757000, 'A Conjunction of Drones Simulating the Way in Which Sufjan Stevens Has an Existential Crisis in the Great Godfrey Maze']\n",
      "[15, 2776000, 'The Predatory Wasp of the Palisades Is Out to Get Us!']\n",
      "[16, 3099000, 'They Are Night Zombies!! They Are Neighbors!! They Have Come Back from the Dead!! Ahhhh!']\n",
      "[17, 3409000, \"Let's Hear That String Part Again, Because I Don't Think They Heard It All the Way Out in Bushnell\"]\n",
      "[18, 3449000, 'In This Temple as in the Hearts of Man for Whom He Saved the Earth']\n",
      "[19, 3484000, \"The Seer's Tower\"]\n",
      "[20, 3718000, 'The Tallest Man, the Broadest Shoulders (Part I  The Great Frontier   Part II  Come to Me Only with Playthings Now)']\n",
      "[21, 4141000, 'Riffs and Variations on a Single Note for Jelly Roll, Earl Hines, Louis Armstrong, Baby Dodds, and the King of Swing, to Name a Few']\n",
      "[22, 4188000, 'Out of Egypt, into the Great Laugh of Mankind, and I Shake the Dirt from My Sandals as I Run']\n"
     ]
    }
   ],
   "source": [
    "tracks = download[0][3]\n",
    "for track in tracks:\n",
    "    print(track)"
   ]
  },
  {
   "cell_type": "code",
   "execution_count": 17,
   "metadata": {},
   "outputs": [
    {
     "name": "stdout",
     "output_type": "stream",
     "text": [
      "0 0 129000\n",
      "1 129000 263000\n",
      "2 263000 668000\n",
      "3 668000 868000\n",
      "4 868000 1192000\n",
      "5 1192000 1240000\n",
      "6 1240000 1424000\n",
      "7 1424000 1430000\n",
      "8 1430000 1795000\n",
      "9 1795000 2148000\n",
      "10 2148000 2249000\n",
      "11 2249000 2625000\n",
      "12 2625000 2757000\n",
      "13 2757000 2776000\n",
      "14 2776000 3099000\n",
      "15 3099000 3409000\n",
      "16 3409000 3449000\n",
      "17 3449000 3484000\n",
      "18 3484000 3718000\n",
      "19 3718000 4141000\n",
      "20 4141000 4188000\n",
      "21 4188000 4188000\n"
     ]
    }
   ],
   "source": [
    "tracks_audio = []\n",
    "for idx, track  in zip(range(len(tracks)), tracks):\n",
    "    begin_stamp = track[1]\n",
    "    \n",
    "    if idx == len(tracks) - 1:\n",
    "        track = song[begin_stamp:]\n",
    "        pass\n",
    "    else:\n",
    "        end_stamp = tracks[idx+1][1]\n",
    "        track = song[begin_stamp:end_stamp]\n",
    "    \n",
    "    tracks_audio.append(track)\n",
    "    print(idx, begin_stamp, end_stamp)"
   ]
  },
  {
   "cell_type": "code",
   "execution_count": 30,
   "metadata": {},
   "outputs": [
    {
     "name": "stdout",
     "output_type": "stream",
     "text": [
      "Creating album directory for Illinois.\n",
      "Directory already exists, saving inside existing directory...\n",
      "Extracted track #1 - Concerning the UFO Sighting Near Highland, Illinois\n",
      "Extracted track #2 - The Black Hawk War, or, How to Demolish an Entire Civilization and Still Feel Good About Yourself in the Morning, or, We Apologize for the Inconvenience but You're Going to Have to Leave Now, or, 'I Have Fought the Big Knives and Will Continue to Fight Them Until They Are Off Our Lands!'\n",
      "Extracted track #3 - Come On! Feel the Illinoise! (Part I  The World's Columbian Exposition   Part II  Carl Sandburg Visits Me in a Dream)\n",
      "Extracted track #4 - John Wayne Gacy, Jr\n",
      "Extracted track #5 - Jacksonville\n",
      "Extracted track #6 - A Short Reprise for Mary Todd, Who Went Insane, but for Very Good Reasons\n",
      "Extracted track #7 - Decatur, or, Round of Applause for Your Stepmother!\n",
      "Extracted track #8 - One Last 'Whoo Hoo!' for the Pullman\n",
      "Extracted track #9 - Chicago\n",
      "Extracted track #10 - Casimir Pulaski Day\n",
      "Extracted track #11 - To the Workers of the Rock River Valley Region, I Have an Idea Concerning Your Predicament\n",
      "Extracted track #12 - The Man of Metropolis Steals Our Hearts\n",
      "Extracted track #13 - Prairie Fire That Wanders About\n",
      "Extracted track #14 - A Conjunction of Drones Simulating the Way in Which Sufjan Stevens Has an Existential Crisis in the Great Godfrey Maze\n",
      "Extracted track #15 - The Predatory Wasp of the Palisades Is Out to Get Us!\n",
      "Extracted track #16 - They Are Night Zombies!! They Are Neighbors!! They Have Come Back from the Dead!! Ahhhh!\n",
      "Extracted track #17 - Let's Hear That String Part Again, Because I Don't Think They Heard It All the Way Out in Bushnell\n",
      "Extracted track #18 - In This Temple as in the Hearts of Man for Whom He Saved the Earth\n",
      "Extracted track #19 - The Seer's Tower\n",
      "Extracted track #20 - The Tallest Man, the Broadest Shoulders (Part I  The Great Frontier   Part II  Come to Me Only with Playthings Now)\n",
      "Extracted track #21 - Riffs and Variations on a Single Note for Jelly Roll, Earl Hines, Louis Armstrong, Baby Dodds, and the King of Swing, to Name a Few\n",
      "Extracted track #22 - Out of Egypt, into the Great Laugh of Mankind, and I Shake the Dirt from My Sandals as I Run\n",
      "All done. Deleting intial album MP3 file...\n",
      "All done. Album can be found at .\\audios\\Sufjan Stevens - Illinois.\n"
     ]
    }
   ],
   "source": [
    "metadata = download[0][2]\n",
    "album = metadata['album']\n",
    "artist = metadata['artist']\n",
    "print(f\"Creating album directory for {album}.\")\n",
    "album_path = f\".\\\\audios\\\\{artist} - {album}\"\n",
    "\n",
    "try:\n",
    "    os.mkdir(album_path)\n",
    "    print(\"Done. Saving songs...\")\n",
    "except FileExistsError:\n",
    "    print(\"Directory already exists, saving inside existing directory...\")\n",
    "    \n",
    "for idx, audio in zip(range(len(tracks_audio)), tracks_audio):\n",
    "    track_name = tracks[idx][2]\n",
    "    file_name = f\"{album} - Track {idx+1}\"\n",
    "    audio_path = f\"{album_path}\\\\{file_name}.mp3\"\n",
    "    audio.export(audio_path, format=\"mp3\")\n",
    "    audio_mp3 = EasyID3(audio_path)\n",
    "    for k in metadata.keys():\n",
    "        if k == \"tags\" or not metadata[k]:\n",
    "            continue\n",
    "        else:\n",
    "            audio_mp3[k] = metadata[k]\n",
    "    audio_mp3[\"title\"] = track_name\n",
    "    audio_mp3[\"tracknumber\"] = str(idx + 1)\n",
    "    audio_mp3.save()\n",
    "    print(f\"Extracted track #{idx + 1} - {track_name}\")\n",
    "    \n",
    "print(\"All done. Deleting intial album MP3 file...\")\n",
    "os.remove(f\".\\\\audios\\\\{album}.mp3\")\n",
    "print(f\"All done. Album can be found at {album_path}.\")"
   ]
  },
  {
   "cell_type": "code",
   "execution_count": 104,
   "metadata": {},
   "outputs": [
    {
     "name": "stdout",
     "output_type": "stream",
     "text": [
      " Artist:  None \n",
      " Title:  None \n",
      " Date:  1971 \n",
      " Tags:  ['Nigeria, 1971', 'Full Album'] \n",
      "\n",
      " Artist:  Siren \n",
      " Title:  Siren \n",
      " Date:  1969 \n",
      " Tags:  [] \n",
      "\n",
      " Artist:  Ryo Fukui \n",
      " Title:  Scenery \n",
      " Date:  1976 \n",
      " Tags:  ['FULL ALBUM'] \n",
      "\n",
      " Artist:  Farm \n",
      " Title:  Farm \n",
      " Date:  1971 \n",
      " Tags:  ['Psychedelic Blues-Rock', 'FULL ALBUM'] \n",
      "\n",
      " Artist:  Bohren & Der Club Of Gore \n",
      " Title:  Piano Nights \n",
      " Date:  2014 \n",
      " Tags:  ['Full Album, 2014'] \n",
      "\n",
      " Artist:  Tim Story \n",
      " Title:  Untitled \n",
      " Date:  1984 \n",
      " Tags:  [] \n",
      "\n",
      " Artist:  Hiroshi Yoshimura \n",
      " Title:  A・I・R \n",
      " Date:  None \n",
      " Tags:  ['Air In Resort', 'full album'] \n",
      "\n",
      " Artist:  Gerry Mulligan \n",
      " Title:  Night Lights \n",
      " Date:  1963 \n",
      " Tags:  [] \n",
      "\n",
      " Artist:  None \n",
      " Title:  None \n",
      " Date:  None \n",
      " Tags:  ['Production Video'] \n",
      "\n"
     ]
    }
   ],
   "source": [
    "others = [\"Fela Kuti (Nigeria, 1971) - Why Black Man Dey Suffer (Full Album)\",\n",
    "          \"Siren - Siren (1969)\",\n",
    "          \"Ryo Fukui - Scenery 1976 (FULL ALBUM)\",\n",
    "          \"Farm - Farm 1971 (FULL ALBUM) [Psychedelic Blues-Rock]\",\n",
    "          \"Bohren & Der Club Of Gore - Piano Nights (Full Album, 2014)\",\n",
    "          \"Tim Story - Untitled (1984)\",\n",
    "          \"Hiroshi Yoshimura - A・I・R (Air In Resort) (full album)\",\n",
    "          \"Gerry Mulligan - Night Lights (1963)\",\n",
    "          \"AMBIcon 2103: TIM STORY Full Concert (Production Video)\"]\n",
    "            \n",
    "for title in others:\n",
    "    parse_title(title)\n",
    "\n"
   ]
  },
  {
   "cell_type": "code",
   "execution_count": 17,
   "metadata": {},
   "outputs": [
    {
     "data": {
      "text/plain": [
       "['New age', 'Ambient']"
      ]
     },
     "execution_count": 17,
     "metadata": {},
     "output_type": "execute_result"
    }
   ],
   "source": []
  },
  {
   "cell_type": "code",
   "execution_count": 107,
   "metadata": {},
   "outputs": [
    {
     "data": {
      "text/plain": [
       "'https://i.ytimg.com/vi/HXrB0PPy7JA/hqdefault.jpg?sqp=-oaymwEiCKgBEF5IWvKriqkDFQgBFQAAAAAYASUAAMhCPQCAokN4AQ==&rs=AOn4CLBIHGqVrVdEBWC6Th5ZCE6Htz9tKA'"
      ]
     },
     "execution_count": 107,
     "metadata": {},
     "output_type": "execute_result"
    }
   ],
   "source": [
    "url = \"https://www.youtube.com/watch?v=HXrB0PPy7JA\"\n",
    "\n",
    "tube = YouTube(url)\n",
    "tube.thumbnail_url"
   ]
  },
  {
   "cell_type": "code",
   "execution_count": 4,
   "metadata": {},
   "outputs": [
    {
     "name": "stdout",
     "output_type": "stream",
     "text": [
      "4301\n",
      "Siren - Siren (1969)\n",
      "Tracklist:\n",
      "A1 Ze-Ze-Ze-Ze 0:00\n",
      "A2 Get Right Church 3:06\n",
      "A3 Rock Me Baby 6:29\n",
      "A4 Wake Up My Children 10:01\n",
      "A5 Wasting My Time 13:40\n",
      "A6 Sixteen Women 16:33\n",
      "A7 First Time I Saw Your Face 19:22\n",
      "B1 Gardener Man 22:17\n",
      "B2 And I Wonder 25:52\n",
      "B3 The War Is Over 28:36\n",
      "B4 Asylum 33:30\n",
      "B5 Bertha Lee 37:17\n",
      "B6 I Wonder Where 40:36\n"
     ]
    },
    {
     "data": {
      "text/plain": [
       "[<Stream: itag=\"18\" mime_type=\"video/mp4\" res=\"360p\" fps=\"30fps\" vcodec=\"avc1.42001E\" acodec=\"mp4a.40.2\">,\n",
       " <Stream: itag=\"137\" mime_type=\"video/mp4\" res=\"1080p\" fps=\"30fps\" vcodec=\"avc1.640028\">,\n",
       " <Stream: itag=\"248\" mime_type=\"video/webm\" res=\"1080p\" fps=\"30fps\" vcodec=\"vp9\">,\n",
       " <Stream: itag=\"136\" mime_type=\"video/mp4\" res=\"720p\" fps=\"30fps\" vcodec=\"avc1.4d4016\">,\n",
       " <Stream: itag=\"247\" mime_type=\"video/webm\" res=\"720p\" fps=\"30fps\" vcodec=\"vp9\">,\n",
       " <Stream: itag=\"135\" mime_type=\"video/mp4\" res=\"480p\" fps=\"30fps\" vcodec=\"avc1.4d4014\">,\n",
       " <Stream: itag=\"244\" mime_type=\"video/webm\" res=\"480p\" fps=\"30fps\" vcodec=\"vp9\">,\n",
       " <Stream: itag=\"134\" mime_type=\"video/mp4\" res=\"360p\" fps=\"30fps\" vcodec=\"avc1.4d401e\">,\n",
       " <Stream: itag=\"243\" mime_type=\"video/webm\" res=\"360p\" fps=\"30fps\" vcodec=\"vp9\">,\n",
       " <Stream: itag=\"133\" mime_type=\"video/mp4\" res=\"240p\" fps=\"30fps\" vcodec=\"avc1.4d400c\">,\n",
       " <Stream: itag=\"242\" mime_type=\"video/webm\" res=\"240p\" fps=\"30fps\" vcodec=\"vp9\">,\n",
       " <Stream: itag=\"160\" mime_type=\"video/mp4\" res=\"144p\" fps=\"30fps\" vcodec=\"avc1.4d400b\">,\n",
       " <Stream: itag=\"278\" mime_type=\"video/webm\" res=\"144p\" fps=\"30fps\" vcodec=\"vp9\">,\n",
       " <Stream: itag=\"140\" mime_type=\"audio/mp4\" abr=\"128kbps\" acodec=\"mp4a.40.2\">,\n",
       " <Stream: itag=\"249\" mime_type=\"audio/webm\" abr=\"50kbps\" acodec=\"opus\">,\n",
       " <Stream: itag=\"250\" mime_type=\"audio/webm\" abr=\"70kbps\" acodec=\"opus\">,\n",
       " <Stream: itag=\"251\" mime_type=\"audio/webm\" abr=\"160kbps\" acodec=\"opus\">]"
      ]
     },
     "execution_count": 4,
     "metadata": {},
     "output_type": "execute_result"
    }
   ],
   "source": [
    "print(tube.views)\n",
    "print(tube.title)\n",
    "print(tube.description)\n",
    "tube.streams.all()\n"
   ]
  },
  {
   "cell_type": "code",
   "execution_count": 21,
   "metadata": {},
   "outputs": [],
   "source": [
    "tube_path = tube.streams.first().download(output_path = \".\\\\videos\\\\\")"
   ]
  },
  {
   "cell_type": "code",
   "execution_count": 22,
   "metadata": {},
   "outputs": [
    {
     "name": "stdout",
     "output_type": "stream",
     "text": [
      "MoviePy - Writing audio in %s\n"
     ]
    },
    {
     "name": "stderr",
     "output_type": "stream",
     "text": [
      "                                                                                                                                                                        \r"
     ]
    },
    {
     "name": "stdout",
     "output_type": "stream",
     "text": [
      "MoviePy - Done.\n"
     ]
    }
   ],
   "source": [
    "tube_path = tube.streams.first().download(output_path = \".\\\\videos\\\\\")\n",
    "title = tube.title\n",
    "audio_path = \".\\\\audios\\\\{filename}.mp3\".format(filename = title)\n",
    "video = VideoFileClip(tube_path)\n",
    "video.audio.write_audiofile(audio_path)"
   ]
  },
  {
   "cell_type": "code",
   "execution_count": 8,
   "metadata": {},
   "outputs": [],
   "source": [
    "title = \"siren\"\n",
    "audio_path = \".\\\\audios\\\\{filename}.mp3\".format(filename = title)\n",
    "file = EasyID3(audio_path)\n",
    "file[\"title\"] = u\"Blame It On The Night\"\n",
    "file[\"date\"] = \"1973\"\n",
    "file[\"album\"] = \"Blame It On The Night\"\n",
    "file[\"tracknumber\"] = \"1\"\n",
    "file[\"artist\"] = \"Kevin Coyne\"\n",
    "file.pprint()\n",
    "file.save()"
   ]
  },
  {
   "cell_type": "code",
   "execution_count": 9,
   "metadata": {},
   "outputs": [
    {
     "name": "stdout",
     "output_type": "stream",
     "text": [
      "album=Blame It On The Night\n",
      "artist=Kevin Coyne\n",
      "date=1973\n",
      "title=Blame It On The Night\n",
      "tracknumber=1\n"
     ]
    }
   ],
   "source": [
    "print(file.pprint())"
   ]
  },
  {
   "cell_type": "code",
   "execution_count": 3,
   "metadata": {},
   "outputs": [
    {
     "name": "stdout",
     "output_type": "stream",
     "text": [
      "['I Really Love You.mp3', 'Riders On The Storm.mp3']\n",
      "ffmpeg\n",
      "audios\\I Really Love You.mp3\n"
     ]
    }
   ],
   "source": [
    "title = \"I Really Love You\"\n",
    "audio_path = \"audios\\\\{filename}.mp3\".format(filename = title)\n",
    "print(os.listdir(\"audios\"))\n",
    "print(AudioSegment.converter)\n",
    "print(audio_path)\n",
    "song = AudioSegment.from_file(audio_path, \"mp3\")"
   ]
  },
  {
   "cell_type": "code",
   "execution_count": 5,
   "metadata": {},
   "outputs": [
    {
     "data": {
      "text/plain": [
       "182690"
      ]
     },
     "execution_count": 5,
     "metadata": {},
     "output_type": "execute_result"
    }
   ],
   "source": [
    "len(song)"
   ]
  }
 ],
 "metadata": {
  "kernelspec": {
   "display_name": "Python 3",
   "language": "python",
   "name": "python3"
  },
  "language_info": {
   "codemirror_mode": {
    "name": "ipython",
    "version": 3
   },
   "file_extension": ".py",
   "mimetype": "text/x-python",
   "name": "python",
   "nbconvert_exporter": "python",
   "pygments_lexer": "ipython3",
   "version": "3.7.1"
  }
 },
 "nbformat": 4,
 "nbformat_minor": 2
}
